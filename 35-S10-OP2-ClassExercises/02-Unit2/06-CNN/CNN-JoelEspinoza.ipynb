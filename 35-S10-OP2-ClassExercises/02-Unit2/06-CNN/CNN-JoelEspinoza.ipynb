{
 "cells": [
  {
   "cell_type": "markdown",
   "id": "32820100",
   "metadata": {},
   "source": [
    "### Universidad Autónoma de Aguascalientes\n",
    "\n",
    "### Centro de Ciencias Básicas\n",
    "\n",
    "### Departamento de Ciencias de la Computación\n",
    "\n",
    "### Optativa Profesionalizante II: Machine Learning y Deep Learning\n",
    "\n",
    "### 10° \"A\"\n",
    "\n",
    "### Actividad 6: CNN\n",
    "\n",
    "### Docente: Dr. Francisco Javier Luna Rosas\n",
    "\n",
    "### Alumno: Joel Alejandro Espinoza Sánchez (211800)\n",
    "\n",
    "### Fecha de Entrega: Aguascalientes, Ags., 1 de mayo del 2023.\n",
    "\n",
    "---\n",
    "\n",
    "El alumno deberá elaborar un documento (```*.pdf```) y un archivo auto-reproducible (```*.html```) que analice, implemente y evalúe una red neuronal convolucional. El documento deberá contener:\n",
    "\n",
    "- Portada\n",
    "\n",
    "- Evidencias de la actividad\n",
    "\n",
    "- Conclusiones\n",
    "\n",
    "- Referencias (formato APA)\n",
    "\n",
    "---\n",
    "\n",
    "Se cargan las librerías"
   ]
  },
  {
   "cell_type": "code",
   "execution_count": 1,
   "id": "d4c2b1d9",
   "metadata": {},
   "outputs": [],
   "source": [
    "import os\n",
    "import numpy as np\n",
    "from PIL import Image\n",
    "import tensorflow as tf\n",
    "from tensorflow.keras import layers, models"
   ]
  },
  {
   "cell_type": "markdown",
   "id": "cc9ccffa",
   "metadata": {},
   "source": [
    "Los números están separados en carpetas. Se cargan estos números"
   ]
  },
  {
   "cell_type": "code",
   "execution_count": 2,
   "id": "39dbd0b5",
   "metadata": {},
   "outputs": [],
   "source": [
    "data_dir = 'numbers'\n",
    "labels = os.listdir(data_dir)"
   ]
  },
  {
   "cell_type": "markdown",
   "id": "d49d298c",
   "metadata": {},
   "source": [
    "Se cargan las imágenes"
   ]
  },
  {
   "cell_type": "code",
   "execution_count": 3,
   "id": "09278c01",
   "metadata": {},
   "outputs": [
    {
     "name": "stderr",
     "output_type": "stream",
     "text": [
      "C:\\Users\\alexe\\Anaconda3\\envs\\ici-thesis\\lib\\site-packages\\ipykernel_launcher.py:5: DeprecationWarning: BILINEAR is deprecated and will be removed in Pillow 10 (2023-07-01). Use Resampling.BILINEAR instead.\n",
      "  \"\"\"\n"
     ]
    }
   ],
   "source": [
    "images = []\n",
    "for label in labels:\n",
    "    for filename in os.listdir(os.path.join(data_dir, label)):\n",
    "        img = Image.open(os.path.join(data_dir, label, filename))\n",
    "        img = img.resize((28, 28), resample=Image.BILINEAR)\n",
    "        img = np.array(img)\n",
    "        images.append((img, int(label)))"
   ]
  },
  {
   "cell_type": "markdown",
   "id": "b8da9171",
   "metadata": {},
   "source": [
    "Se mezclan y se separan las imágenes"
   ]
  },
  {
   "cell_type": "code",
   "execution_count": 4,
   "id": "dbb37acd",
   "metadata": {},
   "outputs": [],
   "source": [
    "np.random.shuffle(images)\n",
    "\n",
    "split = int(0.8 * len(images))\n",
    "train_data = images[:split]\n",
    "test_data = images[split:]"
   ]
  },
  {
   "cell_type": "markdown",
   "id": "bf4ca59f",
   "metadata": {},
   "source": [
    "Se crea el conjunto de entrenamiento y el de evaluación"
   ]
  },
  {
   "cell_type": "code",
   "execution_count": 5,
   "id": "b87487cb",
   "metadata": {},
   "outputs": [],
   "source": [
    "x_train = np.array([train_data[i][0] for i in range(len(train_data))])\n",
    "y_train = np.array([train_data[i][1] for i in range(len(train_data))])\n",
    "x_test = np.array([test_data[i][0] for i in range(len(test_data))])\n",
    "y_test = np.array([test_data[i][1] for i in range(len(test_data))])\n",
    "\n",
    "x_train = x_train.reshape((-1, 28, 28, 3))\n",
    "x_train = x_train.astype('float32') / 255.0\n",
    "x_test = x_test.reshape((-1, 28, 28, 3))\n",
    "x_test = x_test.astype('float32') / 255.0\n",
    "y_train = y_train.reshape((-1, 1))\n",
    "y_train = y_train.astype('float32') / 255.0"
   ]
  },
  {
   "cell_type": "markdown",
   "id": "769f11a9",
   "metadata": {},
   "source": [
    "Se crea el modelo de la CNN"
   ]
  },
  {
   "cell_type": "code",
   "execution_count": 6,
   "id": "14dd4922",
   "metadata": {},
   "outputs": [],
   "source": [
    "model = models.Sequential([\n",
    "    layers.Conv2D(32, (3, 3), activation='relu', input_shape=(28, 28, 3)),\n",
    "    layers.MaxPooling2D((2, 2)),\n",
    "    layers.Conv2D(64, (3, 3), activation='relu'),\n",
    "    layers.MaxPooling2D((2, 2)),\n",
    "    layers.Flatten(),\n",
    "    layers.Dense(64, activation='relu'),\n",
    "    layers.Dense(10, activation='softmax')\n",
    "])\n",
    "\n",
    "model.compile(optimizer='adam',\n",
    "              loss='sparse_categorical_crossentropy',\n",
    "              metrics=['accuracy'])"
   ]
  },
  {
   "cell_type": "markdown",
   "id": "425a1b14",
   "metadata": {},
   "source": [
    "Se evalúa el modelo"
   ]
  },
  {
   "cell_type": "code",
   "execution_count": 7,
   "id": "82b198b2",
   "metadata": {},
   "outputs": [
    {
     "name": "stdout",
     "output_type": "stream",
     "text": [
      "Epoch 1/5\n",
      "539/539 [==============================] - 7s 12ms/step - loss: 0.0075 - accuracy: 0.1042 - val_loss: 36.4981 - val_accuracy: 0.1002\n",
      "Epoch 2/5\n",
      "539/539 [==============================] - 6s 10ms/step - loss: 0.0000e+00 - accuracy: 0.1046 - val_loss: 36.4981 - val_accuracy: 0.1002\n",
      "Epoch 3/5\n",
      "539/539 [==============================] - 6s 11ms/step - loss: 0.0000e+00 - accuracy: 0.1046 - val_loss: 36.4981 - val_accuracy: 0.1002\n",
      "Epoch 4/5\n",
      "539/539 [==============================] - 6s 12ms/step - loss: 0.0000e+00 - accuracy: 0.1046 - val_loss: 36.4981 - val_accuracy: 0.1002\n",
      "Epoch 5/5\n",
      "539/539 [==============================] - 6s 11ms/step - loss: 0.0000e+00 - accuracy: 0.1046 - val_loss: 36.4980 - val_accuracy: 0.1002\n",
      "135/135 - 0s - loss: 36.4980 - accuracy: 0.1002 - 449ms/epoch - 3ms/step\n",
      "Accuracy: 0.10020876675844193\n"
     ]
    }
   ],
   "source": [
    "model.fit(x_train, y_train, epochs=5, batch_size=32, validation_data=(x_test, y_test))\n",
    "\n",
    "test_loss, test_acc = model.evaluate(x_test, y_test, verbose=2)\n",
    "print('Accuracy:', test_acc)"
   ]
  },
  {
   "cell_type": "markdown",
   "id": "005d3e57",
   "metadata": {},
   "source": [
    "Podemos observar que la precisión no es tan buena por lo que el modelo no es muy fiable para la clasificación de las imágenes seleccionadas.\n",
    "\n",
    "---\n",
    "\n",
    "## Conclusiones\n",
    "\n",
    "Es interesante e importante poder implementar una red neuronal convolucional pues, posteriormente no basta con sólo importar librerías que realicen el trabajo pesado, ya que, implementar manualmente estos algoritmos nos enseña a qué hay detrás del algoritmo, cómo funciona y poder comprender realmente qué está ocurriendo como la base de una red neuronal convolucional y la forma en la que ésta aprende. Es muy útil la implementación de estos algoritmos en estas tareas para las futuras tareas de la materia y aplicaciones de Machine Learning en la vida personal.\n",
    "\n",
    "## Referencias\n",
    "\n",
    "- Anónimo (s.f.) “Red neuronal artificial”. Obtenido de Wikipedia: https://es.wikipedia.org/wiki/Red_neuronal_artificial.\n",
    "- Data Scientest (2021) “Perceptrón. ¿Qué es y para qué sirve?”. Obtenido de Data Scientest: https://datascientest.com/es/perceptron-que-es-y-para-que-sirve.\n",
    "- Luna, F. (2023) “El Modelo de McCulloch – Pitts”. Apuntes de ICI 10°."
   ]
  }
 ],
 "metadata": {
  "kernelspec": {
   "display_name": "Python 3 (ipykernel)",
   "language": "python",
   "name": "python3"
  },
  "language_info": {
   "codemirror_mode": {
    "name": "ipython",
    "version": 3
   },
   "file_extension": ".py",
   "mimetype": "text/x-python",
   "name": "python",
   "nbconvert_exporter": "python",
   "pygments_lexer": "ipython3",
   "version": "3.7.15"
  }
 },
 "nbformat": 4,
 "nbformat_minor": 5
}
