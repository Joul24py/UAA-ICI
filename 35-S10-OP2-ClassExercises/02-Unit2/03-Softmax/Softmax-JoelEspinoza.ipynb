{
 "cells": [
  {
   "cell_type": "markdown",
   "id": "756474a6",
   "metadata": {},
   "source": [
    "### Universidad Autónoma de Aguascalientes\n",
    "\n",
    "### Centro de Ciencias Básicas\n",
    "\n",
    "### Departamento de Ciencias de la Computación\n",
    "\n",
    "### Optativa Profesionalizante II: Machine Learning y Deep Learning\n",
    "\n",
    "### 10° \"A\"\n",
    "\n",
    "### Actividad 4: Función SoftMax\n",
    "\n",
    "### Docente: Dr. Francisco Javier Luna Rosas\n",
    "\n",
    "### Alumno: Joel Alejandro Espinoza Sánchez (211800)\n",
    "\n",
    "### Fecha de Entrega: Aguascalientes, Ags., 20 de marzo del 2023.\n",
    "\n",
    "---\n",
    "\n",
    "## Actividad 4: Función SoftMax\n",
    "\n",
    "### La Función SoftMax\n",
    "\n",
    "El alumno deberá elaborar un documento ```*.pdf``` donde implemente la función SoftMax.\n",
    "\n",
    "El documento debe contener lo siguiente:\n",
    "\n",
    "- Análisis de la función SoftMax.\n",
    "- Implementación de la función SoftMax en Python o en el lenguaje de programación de preferencia.\n",
    "- Evaluación de la función SoftMax en Python o en el lenguaje de programación de preferencia.\n",
    "\n",
    "El alumno deberá subir a la plataforma el archivo (```*.pdf```) y un documento auto-reproducible (```*.html```) que deberá contener:\n",
    "\n",
    "- Portada.\n",
    "- Evidencias de la actividad.\n",
    "- Conclusiones.\n",
    "- Referencias (formato APA).\n",
    "\n",
    "---\n",
    "\n",
    "La función SoftMax es una función matemática que se utiliza comúnmente en aprendizaje automático y redes neuronales para normalizar un conjunto de valores en un rango de 0 a 1. Esta función es especialmente útil en problemas de clasificación multiclase, donde se necesita convertir un conjunto de valores en una distribución de probabilidad que sume 1. La función SoftMax toma un vector de números y devuelve otro vector del mismo tamaño, donde cada elemento del vector de salida se calcula dividiendo el exponente del elemento correspondiente en el vector de entrada por la suma de los exponentes de todos los elementos del vector de entrada. En otras palabras, la función SoftMax transforma una entrada en un vector de valores normalizados que representan la probabilidad de cada clase.\n",
    "\n",
    "La función SoftMax se define matemáticamente como:\n",
    "\n",
    "$\n",
    "SoftMax(x_i) = \\frac{e^{x_i}}{sum(e^{x_j})}\n",
    "$\n",
    "\n",
    "Su implementación en código se realiza a continuación, primeramente importando las librerías necesarias:"
   ]
  },
  {
   "cell_type": "code",
   "execution_count": 3,
   "id": "315b7b66",
   "metadata": {},
   "outputs": [],
   "source": [
    "import numpy as np\n",
    "import matplotlib.pyplot as plt"
   ]
  },
  {
   "cell_type": "markdown",
   "id": "87721edb",
   "metadata": {},
   "source": [
    "Después se define la función SoftMax:"
   ]
  },
  {
   "cell_type": "code",
   "execution_count": 4,
   "id": "6b8aeecf",
   "metadata": {},
   "outputs": [],
   "source": [
    "def softmax(x):\n",
    "    return np.exp(x) / np.sum(np.exp(x))"
   ]
  },
  {
   "cell_type": "markdown",
   "id": "b9eab84e",
   "metadata": {},
   "source": [
    "Podemos visualizar los resultados de esta función de la siguiente forma:"
   ]
  },
  {
   "cell_type": "code",
   "execution_count": 5,
   "id": "ff3257c0",
   "metadata": {},
   "outputs": [
    {
     "data": {
      "image/png": "[encoded data removed]",
      "text/plain": [
       "<Figure size 640x480 with 1 Axes>"
      ]
     },
     "metadata": {},
     "output_type": "display_data"
    }
   ],
   "source": [
    "# Definimos el intervalo en el que queremos graficar la función SoftMax\n",
    "x = np.arange(-5, 5, 0.1)\n",
    "\n",
    "# Calculamos los valores de la función SoftMax para el intervalo dado\n",
    "y = softmax(x)\n",
    "\n",
    "# Graficamos la función SoftMax\n",
    "plt.plot(x, y)\n",
    "\n",
    "# Etiquetamos los ejes\n",
    "plt.xlabel('x')\n",
    "plt.ylabel('SoftMax(x)')\n",
    "\n",
    "# Mostramos la gráfica\n",
    "plt.show()"
   ]
  },
  {
   "cell_type": "markdown",
   "id": "5b1f39ee",
   "metadata": {},
   "source": [
    "---\n",
    "\n",
    "## Conclusiones\n",
    "\n",
    "Es interesante e importante poder implementar las bases de estos temas para entenderlos en un futuro, pues, posteriormente no basta con sólo importar librerías que realicen el trabajo pesado, ya que, implementar manualmente las funciones matemáticas en las que recaen estos algoritmos nos enseña a qué hay detrás del algoritmo, cómo funciona y poder comprender realmente qué está ocurriendo como la base de una red neuronal y la forma en la que ésta aprende realizando el descenso del gradiente. Es muy útil la implementación de estos algoritmos en estas tareas para las futuras tareas de la materia y aplicaciones de Machine Learning en la vida personal.\n",
    "\n",
    "## Referencias\n",
    "\n",
    "- Anónimo (s.f.) “Red neuronal artificial”. Obtenido de Wikipedia: https://es.wikipedia.org/wiki/Red_neuronal_artificial.\n",
    "- Data Scientest (2021) “Perceptrón. ¿Qué es y para qué sirve?”. Obtenido de Data Scientest: https://datascientest.com/es/perceptron-que-es-y-para-que-sirve.\n",
    "- Luna, F. (2023) “El Modelo de McCulloch – Pitts”. Apuntes de ICI 10°."
   ]
  }
 ],
 "metadata": {
  "kernelspec": {
   "display_name": "Python 3 (ipykernel)",
   "language": "python",
   "name": "python3"
  },
  "language_info": {
   "codemirror_mode": {
    "name": "ipython",
    "version": 3
   },
   "file_extension": ".py",
   "mimetype": "text/x-python",
   "name": "python",
   "nbconvert_exporter": "python",
   "pygments_lexer": "ipython3",
   "version": "3.7.15"
  }
 },
 "nbformat": 4,
 "nbformat_minor": 5
}
