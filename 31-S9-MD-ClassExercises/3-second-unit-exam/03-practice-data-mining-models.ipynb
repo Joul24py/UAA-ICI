{
  "metadata": {
    "kernelspec": {
      "name": "python",
      "display_name": "Python (Pyodide)",
      "language": "python"
    },
    "language_info": {
      "codemirror_mode": {
        "name": "python",
        "version": 3
      },
      "file_extension": ".py",
      "mimetype": "text/x-python",
      "name": "python",
      "nbconvert_exporter": "python",
      "pygments_lexer": "ipython3",
      "version": "3.8"
    }
  },
  "nbformat_minor": 4,
  "nbformat": 4,
  "cells": [
    {
      "cell_type": "code",
      "source": "# Permite ajustar la anchura de la parte útil de la libreta (reduce los márgenes)\nfrom IPython.core.display import display, HTML\ndisplay(HTML(\"<style>.container{ width:98% }</style>\"))",
      "metadata": {
        "trusted": true
      },
      "execution_count": 2,
      "outputs": [
        {
          "name": "stderr",
          "text": "<ipython-input-2-8462ebe619d5>:2: DeprecationWarning: Importing display from IPython.core.display is deprecated since IPython 7.14, please import from IPython display\n  from IPython.core.display import display, HTML\n",
          "output_type": "stream"
        },
        {
          "output_type": "display_data",
          "data": {
            "text/plain": "<IPython.core.display.HTML object>",
            "text/html": "<style>.container{ width:98% }</style>"
          },
          "metadata": {}
        }
      ]
    },
    {
      "cell_type": "markdown",
      "source": "### 4.8 Correlación entre características",
      "metadata": {}
    },
    {
      "cell_type": "code",
      "source": "plt.figure(figsize=(12,10))\ncor = df_reg.corr()\nsns.heatmap(cor, annot=True,cmap=plt.Reds)\nplt.show",
      "metadata": {
        "trusted": true
      },
      "execution_count": 1,
      "outputs": [
        {
          "ename": "<class 'NameError'>",
          "evalue": "name 'plt' is not defined",
          "traceback": [
            "\u001b[0;31m---------------------------------------------------------------------------\u001b[0m",
            "\u001b[0;31mNameError\u001b[0m                                 Traceback (most recent call last)",
            "Cell \u001b[0;32mIn [1], line 1\u001b[0m\n\u001b[0;32m----> 1\u001b[0m \u001b[43mplt\u001b[49m\u001b[38;5;241m.\u001b[39mfigure(figsize\u001b[38;5;241m=\u001b[39m(\u001b[38;5;241m12\u001b[39m,\u001b[38;5;241m10\u001b[39m))\n\u001b[1;32m      2\u001b[0m cor \u001b[38;5;241m=\u001b[39m df_reg\u001b[38;5;241m.\u001b[39mcorr()\n\u001b[1;32m      3\u001b[0m sns\u001b[38;5;241m.\u001b[39mheatmap(cor, annot\u001b[38;5;241m=\u001b[39m\u001b[38;5;28;01mTrue\u001b[39;00m,cmap\u001b[38;5;241m=\u001b[39mplt\u001b[38;5;241m.\u001b[39mReds)\n",
            "\u001b[0;31mNameError\u001b[0m: name 'plt' is not defined"
          ],
          "output_type": "error"
        }
      ]
    },
    {
      "cell_type": "code",
      "source": "cor_target = abs(cor[\"MEDV\"])\nrelevant_features = cor_target[cor_target>0.60]\nrelevant_features",
      "metadata": {
        "trusted": true
      },
      "execution_count": 3,
      "outputs": [
        {
          "ename": "<class 'NameError'>",
          "evalue": "name 'cor' is not defined",
          "traceback": [
            "\u001b[0;31m---------------------------------------------------------------------------\u001b[0m",
            "\u001b[0;31mNameError\u001b[0m                                 Traceback (most recent call last)",
            "Cell \u001b[0;32mIn [3], line 1\u001b[0m\n\u001b[0;32m----> 1\u001b[0m cor_target \u001b[38;5;241m=\u001b[39m \u001b[38;5;28mabs\u001b[39m(\u001b[43mcor\u001b[49m[\u001b[38;5;124m\"\u001b[39m\u001b[38;5;124mMEDV\u001b[39m\u001b[38;5;124m\"\u001b[39m])\n\u001b[1;32m      2\u001b[0m relevant_features \u001b[38;5;241m=\u001b[39m cor_target[cor_target\u001b[38;5;241m>\u001b[39m\u001b[38;5;241m0.60\u001b[39m]\n\u001b[1;32m      3\u001b[0m relevant_features\n",
            "\u001b[0;31mNameError\u001b[0m: name 'cor' is not defined"
          ],
          "output_type": "error"
        }
      ]
    },
    {
      "cell_type": "code",
      "source": "corr_matrix = df_reg.corr()abs()\nupper = corr_matrix.where(np.triu(np.ones(corr_matrix.shape), k = 1).astype(np.bool))\nto_drop = [column for column in upper.columns if any(upper[column])>0.75]\n",
      "metadata": {
        "trusted": true
      },
      "execution_count": 4,
      "outputs": [
        {
          "ename": "<class 'SyntaxError'>",
          "evalue": "invalid syntax (<ipython-input-4-5f1efd5313ff>, line 1)",
          "traceback": [
            "\u001b[0;36m  Cell \u001b[0;32mIn [4], line 1\u001b[0;36m\u001b[0m\n\u001b[0;31m    corr_matrix = df_reg.corr()abs()\u001b[0m\n\u001b[0m                               ^\u001b[0m\n\u001b[0;31mSyntaxError\u001b[0m\u001b[0;31m:\u001b[0m invalid syntax\n"
          ],
          "output_type": "error"
        }
      ]
    },
    {
      "cell_type": "markdown",
      "source": "### 4.9 BACKWARD Y UNIVARIABLE",
      "metadata": {}
    },
    {
      "cell_type": "code",
      "source": "x_1 = sm.add_constant(X_reg)\nmodel = sm.OLS(y_reg, X_reg).fit()\nmodel.pvalues",
      "metadata": {
        "trusted": true
      },
      "execution_count": 5,
      "outputs": [
        {
          "ename": "<class 'NameError'>",
          "evalue": "name 'sm' is not defined",
          "traceback": [
            "\u001b[0;31m---------------------------------------------------------------------------\u001b[0m",
            "\u001b[0;31mNameError\u001b[0m                                 Traceback (most recent call last)",
            "Cell \u001b[0;32mIn [5], line 1\u001b[0m\n\u001b[0;32m----> 1\u001b[0m x_1 \u001b[38;5;241m=\u001b[39m \u001b[43msm\u001b[49m\u001b[38;5;241m.\u001b[39madd_constant(X_reg)\n\u001b[1;32m      2\u001b[0m model \u001b[38;5;241m=\u001b[39m sm\u001b[38;5;241m.\u001b[39mOLS(y_reg, X_reg)\u001b[38;5;241m.\u001b[39mfit()\n\u001b[1;32m      3\u001b[0m model\u001b[38;5;241m.\u001b[39mpvalues\n",
            "\u001b[0;31mNameError\u001b[0m: name 'sm' is not defined"
          ],
          "output_type": "error"
        }
      ]
    },
    {
      "cell_type": "code",
      "source": "test = SelectKBest(score_func=chi2, k=4)\nfit = test.fit(X_cla, Y_cla)\nprint(list(df_cla.columns))\nprint(fit.scores)\nfeature = fit.tranform(X_cla)\nprint(features[0:5, :])",
      "metadata": {
        "trusted": true
      },
      "execution_count": 6,
      "outputs": [
        {
          "ename": "<class 'NameError'>",
          "evalue": "name 'SelectKBest' is not defined",
          "traceback": [
            "\u001b[0;31m---------------------------------------------------------------------------\u001b[0m",
            "\u001b[0;31mNameError\u001b[0m                                 Traceback (most recent call last)",
            "Cell \u001b[0;32mIn [6], line 1\u001b[0m\n\u001b[0;32m----> 1\u001b[0m test \u001b[38;5;241m=\u001b[39m \u001b[43mSelectKBest\u001b[49m(score_func\u001b[38;5;241m=\u001b[39mchi2, k\u001b[38;5;241m=\u001b[39m\u001b[38;5;241m4\u001b[39m)\n\u001b[1;32m      2\u001b[0m fit \u001b[38;5;241m=\u001b[39m test\u001b[38;5;241m.\u001b[39mfit(X_cla, Y_cla)\n\u001b[1;32m      3\u001b[0m \u001b[38;5;28mprint\u001b[39m(\u001b[38;5;28mlist\u001b[39m(df_cla\u001b[38;5;241m.\u001b[39mcolumns))\n",
            "\u001b[0;31mNameError\u001b[0m: name 'SelectKBest' is not defined"
          ],
          "output_type": "error"
        }
      ]
    },
    {
      "cell_type": "markdown",
      "source": "### 4.10 Eliminación recursiva de características (RFE)",
      "metadata": {}
    },
    {
      "cell_type": "code",
      "source": "from sklearn.feature_selection import RFE\nfrom sklearn.linear_model import LogisticRegression\n\nmodel = LogisticRegression(solver= 'lbfgs', max_iter = 1000)\nrfe = RFE(model,3)\nfit = rfe.fit(X_cla, Y_cla)\nprint(list(df_cla.columns))\nprint(f\"Num features: \"{fit.n_features_})\nprint(f\"Select features: \"{fit.n_support_})\nprint(f\"Feature ranking: \"{fit.n_ranking_})\n",
      "metadata": {
        "trusted": true
      },
      "execution_count": 7,
      "outputs": [
        {
          "ename": "<class 'SyntaxError'>",
          "evalue": "invalid syntax. Perhaps you forgot a comma? (<ipython-input-7-6c7111dde6ca>, line 8)",
          "traceback": [
            "\u001b[0;36m  Cell \u001b[0;32mIn [7], line 8\u001b[0;36m\u001b[0m\n\u001b[0;31m    print(f\"Num features: \"{fit.n_features_})\u001b[0m\n\u001b[0m          ^\u001b[0m\n\u001b[0;31mSyntaxError\u001b[0m\u001b[0;31m:\u001b[0m invalid syntax. Perhaps you forgot a comma?\n"
          ],
          "output_type": "error"
        }
      ]
    },
    {
      "cell_type": "markdown",
      "source": "### 4.12 Random forest",
      "metadata": {}
    },
    {
      "cell_type": "code",
      "source": "from sklearn.ensamble import RandomForestClassifer\nfrom sklearn.metrics import accuracy_score\n\n\nX_train, X_test, Y_train, Y_test = train_test_split(X_wisconsin, y_wisconsin, test_size = 0.33, random_state=7)\nforest = RandomForestClassifer(n_estimators = 100)\nforest.fit(X_train, Y_train)\n\nimportances = forest.feture_importances_\nY_pred = forest.predict(X_test)\nprint(f\"Error (con todas las variables): {acuracy_score(Y_test,Y_pred)}\")\n",
      "metadata": {
        "trusted": true
      },
      "execution_count": 8,
      "outputs": [
        {
          "ename": "<class 'ModuleNotFoundError'>",
          "evalue": "No module named 'sklearn.ensamble'",
          "traceback": [
            "\u001b[0;31m---------------------------------------------------------------------------\u001b[0m",
            "\u001b[0;31mModuleNotFoundError\u001b[0m                       Traceback (most recent call last)",
            "Cell \u001b[0;32mIn [8], line 1\u001b[0m\n\u001b[0;32m----> 1\u001b[0m \u001b[38;5;28;01mfrom\u001b[39;00m \u001b[38;5;21;01msklearn\u001b[39;00m\u001b[38;5;21;01m.\u001b[39;00m\u001b[38;5;21;01mensamble\u001b[39;00m \u001b[38;5;28;01mimport\u001b[39;00m RandomForestClassifer\n\u001b[1;32m      2\u001b[0m \u001b[38;5;28;01mfrom\u001b[39;00m \u001b[38;5;21;01msklearn\u001b[39;00m\u001b[38;5;21;01m.\u001b[39;00m\u001b[38;5;21;01mmetrics\u001b[39;00m \u001b[38;5;28;01mimport\u001b[39;00m accuracy_score\n\u001b[1;32m      5\u001b[0m X_train, X_test, Y_train, Y_test \u001b[38;5;241m=\u001b[39m train_test_split(X_wisconsin, y_wisconsin, test_size \u001b[38;5;241m=\u001b[39m \u001b[38;5;241m0.33\u001b[39m, random_state\u001b[38;5;241m=\u001b[39m\u001b[38;5;241m7\u001b[39m)\n",
            "\u001b[0;31mModuleNotFoundError\u001b[0m: No module named 'sklearn.ensamble'"
          ],
          "output_type": "error"
        }
      ]
    },
    {
      "cell_type": "code",
      "source": "forest.fit(X_train[ : , ranking[-5 : ]], Y_train)\nY_pred = forest.predict(X_test[ : , ranking[-5 : ]])\nprint(f\"Error (sin 5 últimas cara): {acuracy_score(Y_test,Y_pred)}\")\n",
      "metadata": {
        "trusted": true
      },
      "execution_count": 9,
      "outputs": [
        {
          "ename": "<class 'NameError'>",
          "evalue": "name 'forest' is not defined",
          "traceback": [
            "\u001b[0;31m---------------------------------------------------------------------------\u001b[0m",
            "\u001b[0;31mNameError\u001b[0m                                 Traceback (most recent call last)",
            "Cell \u001b[0;32mIn [9], line 1\u001b[0m\n\u001b[0;32m----> 1\u001b[0m \u001b[43mforest\u001b[49m\u001b[38;5;241m.\u001b[39mfit(X_train[ : , ranking[\u001b[38;5;241m-\u001b[39m\u001b[38;5;241m5\u001b[39m : ]], Y_train)\n\u001b[1;32m      2\u001b[0m Y_pred \u001b[38;5;241m=\u001b[39m forest\u001b[38;5;241m.\u001b[39mpredict(X_test[ : , ranking[\u001b[38;5;241m-\u001b[39m\u001b[38;5;241m5\u001b[39m : ]])\n\u001b[1;32m      3\u001b[0m \u001b[38;5;28mprint\u001b[39m(\u001b[38;5;124mf\u001b[39m\u001b[38;5;124m\"\u001b[39m\u001b[38;5;124mError (sin 5 últimas cara): \u001b[39m\u001b[38;5;132;01m{\u001b[39;00macuracy_score(Y_test,Y_pred)\u001b[38;5;132;01m}\u001b[39;00m\u001b[38;5;124m\"\u001b[39m)\n",
            "\u001b[0;31mNameError\u001b[0m: name 'forest' is not defined"
          ],
          "output_type": "error"
        }
      ]
    },
    {
      "cell_type": "markdown",
      "source": "### 4.13 Lasso",
      "metadata": {}
    },
    {
      "cell_type": "code",
      "source": "from sklearn.linear_model import LassoCV\nreg = lassoCV()\nreg.fit(X_reg, Y_reg)\nprint(f\"Best alpha using built-in LassoCV: {reg.alpha_}\")\nprint(f\"Best score using built-in LassoCV: {reg.score(X_reg, Y_reg)}\")\ncoef = pd.Series(reg.coef_, index=X_reg.columns)\nprint(coef)\n\nprint(\"Lasso picked \" + str(sum(coef != 0)) + \"variables eliminated: \" + str(sum(coef == 0)))\n\nimp_coef = coef.sort_values()\nplt.rcParams['figure.figsize'] = (7.0, 5.0)\nimp_coef.plot(kind=\"brahr\")",
      "metadata": {
        "scrolled": true,
        "trusted": true
      },
      "execution_count": 10,
      "outputs": [
        {
          "ename": "<class 'NameError'>",
          "evalue": "name 'lassoCV' is not defined",
          "traceback": [
            "\u001b[0;31m---------------------------------------------------------------------------\u001b[0m",
            "\u001b[0;31mNameError\u001b[0m                                 Traceback (most recent call last)",
            "Cell \u001b[0;32mIn [10], line 2\u001b[0m\n\u001b[1;32m      1\u001b[0m \u001b[38;5;28;01mfrom\u001b[39;00m \u001b[38;5;21;01msklearn\u001b[39;00m\u001b[38;5;21;01m.\u001b[39;00m\u001b[38;5;21;01mlinear_model\u001b[39;00m \u001b[38;5;28;01mimport\u001b[39;00m LassoCV\n\u001b[0;32m----> 2\u001b[0m reg \u001b[38;5;241m=\u001b[39m \u001b[43mlassoCV\u001b[49m()\n\u001b[1;32m      3\u001b[0m reg\u001b[38;5;241m.\u001b[39mfit(X_reg, Y_reg)\n\u001b[1;32m      4\u001b[0m \u001b[38;5;28mprint\u001b[39m(\u001b[38;5;124mf\u001b[39m\u001b[38;5;124m\"\u001b[39m\u001b[38;5;124mBest alpha using built-in LassoCV: \u001b[39m\u001b[38;5;132;01m{\u001b[39;00mreg\u001b[38;5;241m.\u001b[39malpha_\u001b[38;5;132;01m}\u001b[39;00m\u001b[38;5;124m\"\u001b[39m)\n",
            "\u001b[0;31mNameError\u001b[0m: name 'lassoCV' is not defined"
          ],
          "output_type": "error"
        }
      ]
    },
    {
      "cell_type": "markdown",
      "source": "### 4.14. PCA",
      "metadata": {}
    },
    {
      "cell_type": "code",
      "source": "from sklearn.descomposition import PCA\n\nk = 3 \npca = PCA(n_components = k)\nfit = pca.fit(X_cla)\n\nC = pca.components_\nprint(f\"Explained Variance: {fit.explained_variance_ratio_} \")\nprint(f\"Components: {C}\")\n\ndf_pca = pd.DataFrame(data=X_transform, columns = ['PC1', 'PC2', 'PC3'])\ndf_pca",
      "metadata": {
        "trusted": true
      },
      "execution_count": 11,
      "outputs": [
        {
          "ename": "<class 'ModuleNotFoundError'>",
          "evalue": "No module named 'sklearn.descomposition'",
          "traceback": [
            "\u001b[0;31m---------------------------------------------------------------------------\u001b[0m",
            "\u001b[0;31mModuleNotFoundError\u001b[0m                       Traceback (most recent call last)",
            "Cell \u001b[0;32mIn [11], line 1\u001b[0m\n\u001b[0;32m----> 1\u001b[0m \u001b[38;5;28;01mfrom\u001b[39;00m \u001b[38;5;21;01msklearn\u001b[39;00m\u001b[38;5;21;01m.\u001b[39;00m\u001b[38;5;21;01mdescomposition\u001b[39;00m \u001b[38;5;28;01mimport\u001b[39;00m PCA\n\u001b[1;32m      3\u001b[0m k \u001b[38;5;241m=\u001b[39m \u001b[38;5;241m3\u001b[39m \n\u001b[1;32m      4\u001b[0m pca \u001b[38;5;241m=\u001b[39m PCA(n_components \u001b[38;5;241m=\u001b[39m k)\n",
            "\u001b[0;31mModuleNotFoundError\u001b[0m: No module named 'sklearn.descomposition'"
          ],
          "output_type": "error"
        }
      ]
    }
  ]
}